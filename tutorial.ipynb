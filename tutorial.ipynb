{
 "cells": [
  {
   "cell_type": "markdown",
   "metadata": {},
   "source": [
    "# Foward/Backward Computation"
   ]
  },
  {
   "cell_type": "code",
   "execution_count": 69,
   "metadata": {},
   "outputs": [],
   "source": [
    "import chainer\n",
    "import chainer.functions as F\n",
    "import chainer.links as L\n",
    "import numpy as np\n",
    "from chainer import (Chain, ChainList, Function, Variable, datasets,\n",
    "                     gradient_check, iterators, link, optimizers, report,\n",
    "                     serializers, training, utils)\n",
    "from chainer.training import extensions"
   ]
  },
  {
   "cell_type": "code",
   "execution_count": 2,
   "metadata": {},
   "outputs": [],
   "source": [
    "x_data = np.array([5], dtype=np.float32)\n",
    "x = Variable(x_data)  # trainableな変数となる"
   ]
  },
  {
   "cell_type": "code",
   "execution_count": 3,
   "metadata": {},
   "outputs": [
    {
     "data": {
      "text/plain": [
       "(variable([5.]), array([5.], dtype=float32))"
      ]
     },
     "execution_count": 3,
     "metadata": {},
     "output_type": "execute_result"
    }
   ],
   "source": [
    "x, x.data  # can get value from data attribute then it's array"
   ]
  },
  {
   "cell_type": "code",
   "execution_count": 4,
   "metadata": {},
   "outputs": [],
   "source": [
    "y = x**2 -2 * x +1"
   ]
  },
  {
   "cell_type": "code",
   "execution_count": 5,
   "metadata": {},
   "outputs": [
    {
     "data": {
      "text/plain": [
       "array([16.], dtype=float32)"
      ]
     },
     "execution_count": 5,
     "metadata": {},
     "output_type": "execute_result"
    }
   ],
   "source": [
    "y.data"
   ]
  },
  {
   "cell_type": "code",
   "execution_count": 6,
   "metadata": {},
   "outputs": [
    {
     "data": {
      "text/plain": [
       "array([8.], dtype=float32)"
      ]
     },
     "execution_count": 6,
     "metadata": {},
     "output_type": "execute_result"
    }
   ],
   "source": [
    "y.backward()  # backwordを行うと\n",
    "x.grad  # それぞれの変数においての勾配が計算される．"
   ]
  },
  {
   "cell_type": "code",
   "execution_count": 7,
   "metadata": {},
   "outputs": [
    {
     "data": {
      "text/plain": [
       "array([-1.], dtype=float32)"
      ]
     },
     "execution_count": 7,
     "metadata": {},
     "output_type": "execute_result"
    }
   ],
   "source": [
    "z = 2*x\n",
    "y = x**2 - z +1\n",
    "y.backward(retain_grad=True)\n",
    "z.grad  # 中間の変数の勾配はメモリ効率のため，retain_grad=Trueとしないと解放される．"
   ]
  },
  {
   "cell_type": "code",
   "execution_count": 8,
   "metadata": {},
   "outputs": [],
   "source": [
    "y.backward()  # そうしないと勾配を保持しない"
   ]
  },
  {
   "cell_type": "code",
   "execution_count": 9,
   "metadata": {},
   "outputs": [
    {
     "data": {
      "text/plain": [
       "True"
      ]
     },
     "execution_count": 9,
     "metadata": {},
     "output_type": "execute_result"
    }
   ],
   "source": [
    "z.grad is None"
   ]
  },
  {
   "cell_type": "code",
   "execution_count": 10,
   "metadata": {},
   "outputs": [
    {
     "data": {
      "text/plain": [
       "array([24.], dtype=float32)"
      ]
     },
     "execution_count": 10,
     "metadata": {},
     "output_type": "execute_result"
    }
   ],
   "source": [
    "x.grad  # 最初の変数は勾配が常にある．"
   ]
  },
  {
   "cell_type": "code",
   "execution_count": 11,
   "metadata": {},
   "outputs": [
    {
     "data": {
      "text/plain": [
       "array([[ 0.,  2.,  4.],\n",
       "       [ 6.,  8., 10.]], dtype=float32)"
      ]
     },
     "execution_count": 11,
     "metadata": {},
     "output_type": "execute_result"
    }
   ],
   "source": [
    "x = Variable(np.array([[1, 2 ,3], [4, 5, 6]], dtype=np.float32))\n",
    "y = x**2 -2*x +1\n",
    "# 多次元配列を入力とするときは初期誤差を明示的に書かなければならない\n",
    "y.grad = np.ones((2, 3), dtype=np.float32)\n",
    "y.backward()\n",
    "x.grad"
   ]
  },
  {
   "cell_type": "code",
   "execution_count": 12,
   "metadata": {},
   "outputs": [
    {
     "data": {
      "text/plain": [
       "True"
      ]
     },
     "execution_count": 12,
     "metadata": {},
     "output_type": "execute_result"
    }
   ],
   "source": [
    "x = Variable(np.array([[1, 2 ,3], [4, 5, 6]], dtype=np.float32))\n",
    "y = x**2 -2*x +1\n",
    "# y.grad = np.ones((2, 3), dtype=np.float32)\n",
    "y.backward()\n",
    "x.grad is None"
   ]
  },
  {
   "cell_type": "markdown",
   "metadata": {},
   "source": [
    "# Links"
   ]
  },
  {
   "cell_type": "code",
   "execution_count": 13,
   "metadata": {},
   "outputs": [],
   "source": [
    "# accept input value whose shape is (N, 3) and this functions output shape is (N,2)\n",
    "f = L.Linear(3, 2)"
   ]
  },
  {
   "cell_type": "code",
   "execution_count": 14,
   "metadata": {},
   "outputs": [
    {
     "data": {
      "text/plain": [
       "variable W([[-0.06382784, -0.6825712 ,  0.7025081 ],\n",
       "            [ 0.51501   ,  0.5847196 , -0.8228216 ]])"
      ]
     },
     "execution_count": 14,
     "metadata": {},
     "output_type": "execute_result"
    }
   ],
   "source": [
    "f.W  # instance of Variable"
   ]
  },
  {
   "cell_type": "code",
   "execution_count": 15,
   "metadata": {},
   "outputs": [
    {
     "data": {
      "text/plain": [
       "(array([[-0.06382784, -0.6825712 ,  0.7025081 ],\n",
       "        [ 0.51501   ,  0.5847196 , -0.8228216 ]], dtype=float32),\n",
       " array([0., 0.], dtype=float32))"
      ]
     },
     "execution_count": 15,
     "metadata": {},
     "output_type": "execute_result"
    }
   ],
   "source": [
    "f.W.data, f.b.data  # W,b はインスタンス化した際に初期化される．よって何度このセルを実行しても値は同じ"
   ]
  },
  {
   "cell_type": "code",
   "execution_count": 16,
   "metadata": {},
   "outputs": [
    {
     "data": {
      "text/plain": [
       "array([[ 0.6785542 , -0.78401566],\n",
       "       [ 0.5468817 ,  0.04670811]], dtype=float32)"
      ]
     },
     "execution_count": 16,
     "metadata": {},
     "output_type": "execute_result"
    }
   ],
   "source": [
    "x = Variable(np.array([[1, 2, 3], [4, 5, 6]],\n",
    "                      dtype=np.float32))  # input\n",
    "y = f(x)  # fully-connected\n",
    "y.data"
   ]
  },
  {
   "cell_type": "code",
   "execution_count": 17,
   "metadata": {},
   "outputs": [],
   "source": [
    "f = L.Linear(2)"
   ]
  },
  {
   "cell_type": "code",
   "execution_count": 18,
   "metadata": {},
   "outputs": [
    {
     "data": {
      "text/plain": [
       "(variable W(None), variable b([0., 0.]))"
      ]
     },
     "execution_count": 18,
     "metadata": {},
     "output_type": "execute_result"
    }
   ],
   "source": [
    "f.W, f.b  # 入力次元を指定してないので, W はデータが流れるまでは初期化されない"
   ]
  },
  {
   "cell_type": "code",
   "execution_count": 19,
   "metadata": {},
   "outputs": [
    {
     "name": "stdout",
     "output_type": "stream",
     "text": [
      "variable W([[-0.14056611  0.1022629  -0.38314268]\n",
      "            [ 0.4181937   0.02477389  0.14322315]]) variable b([0. 0.])\n"
     ]
    },
    {
     "data": {
      "text/plain": [
       "array([[-1.0854683,  0.8974109],\n",
       "       [-2.3498058,  2.655983 ]], dtype=float32)"
      ]
     },
     "execution_count": 19,
     "metadata": {},
     "output_type": "execute_result"
    }
   ],
   "source": [
    "x = Variable(np.array([[1, 2, 3], [4, 5, 6]],\n",
    "                      dtype=np.float32))  # input\n",
    "y = f(x)  # fully-connected\n",
    "print(f.W, f.b)  # 推論したら値が初期化されている．\n",
    "y.data"
   ]
  },
  {
   "cell_type": "code",
   "execution_count": 20,
   "metadata": {},
   "outputs": [],
   "source": [
    "f.cleargrads()"
   ]
  },
  {
   "cell_type": "code",
   "execution_count": 21,
   "metadata": {},
   "outputs": [
    {
     "data": {
      "text/plain": [
       "(array([[5., 7., 9.],\n",
       "        [5., 7., 9.]], dtype=float32), array([2., 2.], dtype=float32))"
      ]
     },
     "execution_count": 21,
     "metadata": {},
     "output_type": "execute_result"
    }
   ],
   "source": [
    "y.grad = np.ones((2, 2), dtype=np.float32)\n",
    "y.backward()\n",
    "f.W.grad, f.b.grad"
   ]
  },
  {
   "cell_type": "code",
   "execution_count": 22,
   "metadata": {},
   "outputs": [],
   "source": [
    "y.backward()"
   ]
  },
  {
   "cell_type": "code",
   "execution_count": 23,
   "metadata": {},
   "outputs": [
    {
     "data": {
      "text/plain": [
       "(array([[10., 14., 18.],\n",
       "        [10., 14., 18.]], dtype=float32), array([4., 4.], dtype=float32))"
      ]
     },
     "execution_count": 23,
     "metadata": {},
     "output_type": "execute_result"
    }
   ],
   "source": [
    "f.W.grad, f.b.grad  # cleargradsをしないと蓄積される"
   ]
  },
  {
   "cell_type": "code",
   "execution_count": 24,
   "metadata": {},
   "outputs": [
    {
     "data": {
      "text/plain": [
       "(array([[5., 7., 9.],\n",
       "        [5., 7., 9.]], dtype=float32), array([2., 2.], dtype=float32))"
      ]
     },
     "execution_count": 24,
     "metadata": {},
     "output_type": "execute_result"
    }
   ],
   "source": [
    "f.cleargrads()\n",
    "y.grad = np.ones((2, 2), dtype=np.float32)\n",
    "y.backward()\n",
    "f.W.grad, f.b.grad"
   ]
  },
  {
   "cell_type": "markdown",
   "metadata": {},
   "source": [
    "# Write a model as a chain"
   ]
  },
  {
   "cell_type": "code",
   "execution_count": 25,
   "metadata": {},
   "outputs": [],
   "source": [
    "l1 = L.Linear(4, 3)\n",
    "l2 = L.Linear(3, 2)\n",
    "def my_forward(x):\n",
    "    h = l1(x)\n",
    "    return l2(h)"
   ]
  },
  {
   "cell_type": "code",
   "execution_count": 26,
   "metadata": {},
   "outputs": [],
   "source": [
    "class MyProc(object):\n",
    "    def __init__(self):\n",
    "        self.l1 = L.Linear(4, 3)\n",
    "        self.l2 = L.Linear(3, 2)\n",
    "        \n",
    "    def forward(self, x):\n",
    "        h = self.l1(x)\n",
    "        return self.l2(h)"
   ]
  },
  {
   "cell_type": "code",
   "execution_count": 27,
   "metadata": {},
   "outputs": [],
   "source": [
    "class MyChain(Chain):\n",
    "    def __init__(self):\n",
    "        # MyChainクラスのスーパークラスの初期化メソッドを呼ぶ．単にsuper().__init__でもOK\n",
    "        super(MyChain, self).__init__()\n",
    "        with self.init_scope():\n",
    "            self.l1 = L.Linear(4, 3)\n",
    "            self.l2 = L.Linear(3, 2)\n",
    "        \n",
    "    def __call__(self, x):\n",
    "        h = self.l1(x)\n",
    "        return self.l2(h)"
   ]
  },
  {
   "cell_type": "code",
   "execution_count": 28,
   "metadata": {},
   "outputs": [],
   "source": [
    "class MyChain2(ChainList):\n",
    "    def __init__(self):\n",
    "        # MyChain2クラスのスーパークラスの初期化メソッドを呼ぶ．単にsuper().__init__でもOK\n",
    "        super(MyChain2, self).__init__(\n",
    "            L.Linear(4, 3),\n",
    "            L.Linear(3, 2),\n",
    "        )\n",
    "\n",
    "        \n",
    "    def __call__(self, x):\n",
    "        h = self[0](x)\n",
    "        return self[1](h)"
   ]
  },
  {
   "cell_type": "markdown",
   "metadata": {},
   "source": [
    "# Optimizer"
   ]
  },
  {
   "cell_type": "code",
   "execution_count": 29,
   "metadata": {},
   "outputs": [],
   "source": [
    "model = MyChain()\n",
    "optimizer = optimizers.SGD(lr=0.01)\n",
    "optimizer.setup(model)"
   ]
  },
  {
   "cell_type": "code",
   "execution_count": 30,
   "metadata": {},
   "outputs": [
    {
     "data": {
      "text/plain": [
       "(<__main__.MyChain at 0x7fd8053a7e80>,\n",
       " <chainer.optimizers.sgd.SGD at 0x7fd8053a7dd8>)"
      ]
     },
     "execution_count": 30,
     "metadata": {},
     "output_type": "execute_result"
    }
   ],
   "source": [
    "model, optimizer"
   ]
  },
  {
   "cell_type": "code",
   "execution_count": 31,
   "metadata": {},
   "outputs": [],
   "source": [
    "# あらかじめadd_hookメソッドを呼ぶことで正則化などができる\n",
    "optimizer.add_hook(chainer.optimizer.WeightDecay(0.0005))"
   ]
  },
  {
   "cell_type": "code",
   "execution_count": 32,
   "metadata": {},
   "outputs": [
    {
     "data": {
      "text/plain": [
       "array([[ 0.31473038,  0.52423704, -0.5810844 ,  0.61855686],\n",
       "       [-0.76510185, -0.01017925, -0.22086169,  0.06795558]],\n",
       "      dtype=float32)"
      ]
     },
     "execution_count": 32,
     "metadata": {},
     "output_type": "execute_result"
    }
   ],
   "source": [
    "x = np.random.uniform(-1, 1, (2, 4)).astype('f')\n",
    "x"
   ]
  },
  {
   "cell_type": "code",
   "execution_count": 33,
   "metadata": {},
   "outputs": [
    {
     "data": {
      "text/plain": [
       "variable([[-0.32220206, -0.44709098],\n",
       "          [ 0.8375386 , -0.04884314]])"
      ]
     },
     "execution_count": 33,
     "metadata": {},
     "output_type": "execute_result"
    }
   ],
   "source": [
    "model.cleargrads()\n",
    "\n",
    "# chainerを使って定義した機械学習ネットワークにデータを投げる時には型をVariableにしなければいけません。\n",
    "# その時、引数に与えるデータは常にnp.arrayを用いる必要があります。\n",
    "loss = model(chainer.Variable(x))  # define loss function\n",
    "loss"
   ]
  },
  {
   "cell_type": "code",
   "execution_count": 34,
   "metadata": {},
   "outputs": [
    {
     "data": {
      "text/plain": [
       "variable(0.01940239)"
      ]
     },
     "execution_count": 34,
     "metadata": {},
     "output_type": "execute_result"
    }
   ],
   "source": [
    "loss = F.sum(loss)\n",
    "loss"
   ]
  },
  {
   "cell_type": "code",
   "execution_count": 35,
   "metadata": {},
   "outputs": [],
   "source": [
    "loss.backward()  # compute gradients here\n",
    "optimizer.update()"
   ]
  },
  {
   "cell_type": "code",
   "execution_count": 36,
   "metadata": {},
   "outputs": [
    {
     "data": {
      "text/plain": [
       "array([[-0.70729434,  0.8072384 , -1.2585516 ,  1.0778688 ],\n",
       "       [-0.19065623,  0.21674514, -0.33819425,  0.2896081 ],\n",
       "       [-0.18735579,  0.2138383 , -0.33366752,  0.28530058]],\n",
       "      dtype=float32)"
      ]
     },
     "execution_count": 36,
     "metadata": {},
     "output_type": "execute_result"
    }
   ],
   "source": [
    "model.l1.W.grad"
   ]
  },
  {
   "cell_type": "code",
   "execution_count": 37,
   "metadata": {},
   "outputs": [
    {
     "name": "stdout",
     "output_type": "stream",
     "text": [
      "[[-0.44885355  0.3657488   0.9597713   0.129384  ]\n",
      " [-1.505267   -0.02484447 -0.09147666  0.26664013]\n",
      " [-0.09014332  0.08053309 -0.271929   -0.44358745]]\n"
     ]
    },
    {
     "data": {
      "text/plain": [
       "array([[-0.7094576 ,  0.8097076 , -1.2624037 ,  1.0811665 ],\n",
       "       [-0.1822358 ,  0.207134  , -0.32320055,  0.27677262],\n",
       "       [-0.18727562,  0.21374677, -0.33352473,  0.28517836]],\n",
       "      dtype=float32)"
      ]
     },
     "execution_count": 37,
     "metadata": {},
     "output_type": "execute_result"
    }
   ],
   "source": [
    "model.cleargrads()  # 勾配消去\n",
    "loss.backward()  # compute gradient\n",
    "optimizer.update()  # 最適化\n",
    "print(model.l1.W.data)  # 勾配を消して,backwordしてupdateすれば，変数が最適化されていく\n",
    "model.l1.W.grad"
   ]
  },
  {
   "cell_type": "code",
   "execution_count": 38,
   "metadata": {},
   "outputs": [],
   "source": [
    "model2 = MyChain()\n",
    "optimizer = optimizers.SGD(lr=0.01)\n",
    "optimizer.setup(model2)"
   ]
  },
  {
   "cell_type": "code",
   "execution_count": 39,
   "metadata": {},
   "outputs": [
    {
     "name": "stdout",
     "output_type": "stream",
     "text": [
      "[[ 0.5247217   0.26374596  0.04687392 -0.10371631]\n",
      " [ 0.33678135  0.39854538 -0.55439186 -0.9291288 ]\n",
      " [ 0.06033649 -0.07023801 -0.6669371   0.05834466]]\n"
     ]
    },
    {
     "data": {
      "text/plain": [
       "array([[-0.7094576 ,  0.8097076 , -1.2624037 ,  1.0811665 ],\n",
       "       [-0.1822358 ,  0.207134  , -0.32320055,  0.27677262],\n",
       "       [-0.18727562,  0.21374677, -0.33352473,  0.28517836]],\n",
       "      dtype=float32)"
      ]
     },
     "execution_count": 39,
     "metadata": {},
     "output_type": "execute_result"
    }
   ],
   "source": [
    "np.random.seed(1)\n",
    "def lossfun(arg1, arg2):\n",
    "    # calculate loss\n",
    "    loss = F.sum(model2(arg1 - arg2))\n",
    "    return loss\n",
    "arg1 = np.random.uniform(-1, 1, (100, 4)).astype('f')  # 入力データ1\n",
    "arg2 = np.random.uniform(-1, 1, (100, 4)).astype('f')  # 入力データ2\n",
    "# lossfunc以外の引数はlossfuncの引数である必要がある. この方法での最適化だとcleargradsは必要ない\n",
    "optimizer.update(lossfun, chainer.Variable(arg1), chainer.Variable(arg2)) \n",
    "print(model2.l1.W.data)\n",
    "model.l1.W.grad"
   ]
  },
  {
   "cell_type": "markdown",
   "metadata": {},
   "source": [
    "`F.mean_squared_error`をつかってみる．"
   ]
  },
  {
   "cell_type": "code",
   "execution_count": 57,
   "metadata": {},
   "outputs": [
    {
     "name": "stdout",
     "output_type": "stream",
     "text": [
      "[[ 0.52021104  0.30367592 -0.03390292 -0.05569299]\n",
      " [ 0.22469133  0.882432    0.43537852 -0.2549535 ]\n",
      " [ 0.38438904 -0.06087445 -0.09872811  0.9290657 ]]\n"
     ]
    },
    {
     "data": {
      "text/plain": [
       "array([[ 0.22861126,  0.05814299, -0.07614249,  0.14969613],\n",
       "       [ 0.0386434 ,  0.02355422,  0.01064028,  0.07249323],\n",
       "       [ 0.43205643,  0.14888667, -0.07709835,  0.41699764]],\n",
       "      dtype=float32)"
      ]
     },
     "execution_count": 57,
     "metadata": {},
     "output_type": "execute_result"
    }
   ],
   "source": [
    "model3 = MyChain()\n",
    "optimizer = optimizers.SGD(lr=0.01)\n",
    "optimizer.setup(model3)\n",
    "np.random.seed(1)\n",
    "\n",
    "def lossfun(arg1, arg2):\n",
    "    # calculate loss\n",
    "    loss = F.mean_squared_error(model3(arg1), arg2)\n",
    "    return loss\n",
    "\n",
    "arg1 = np.random.uniform(-1, 1, (100, 4)).astype('f')  # 入力データ1\n",
    "arg2 = np.random.uniform(-1, 1, (100, 2)).astype('f')  # 入力データ2\n",
    "# lossfunc以外の引数はlossfuncの引数である必要がある. この方法での最適化だとcleargradsは必要ない\n",
    "optimizer.update(lossfun, chainer.Variable(arg1), chainer.Variable(arg2)) \n",
    "print(model3.l1.W.data)\n",
    "model3.l1.W.grad"
   ]
  },
  {
   "cell_type": "markdown",
   "metadata": {},
   "source": [
    "# Trainer"
   ]
  },
  {
   "cell_type": "code",
   "execution_count": 70,
   "metadata": {},
   "outputs": [],
   "source": [
    "serializers.save_npz(\"my.model\", model)  # serialize Chain object"
   ]
  },
  {
   "cell_type": "code",
   "execution_count": 73,
   "metadata": {},
   "outputs": [
    {
     "data": {
      "text/plain": [
       "<__main__.MyChain at 0x7fd8053a7e80>"
      ]
     },
     "execution_count": 73,
     "metadata": {},
     "output_type": "execute_result"
    }
   ],
   "source": [
    "# モデルしたいを保存するわけではないので，ロードしたパラメータ値を入れるモデルは予め作っておかないといけない．\n",
    "# 引数に渡すモデルはsaveした時と同じ構成である必要がある\n",
    "# Since we do not preserve the model itself, we need to create a model that contains loaded parameter values in advance.\n",
    "serializers.load_npz(\"my.model\", model)\n",
    "model"
   ]
  },
  {
   "cell_type": "code",
   "execution_count": 76,
   "metadata": {},
   "outputs": [],
   "source": [
    "# serialize state of optimizer\n",
    "serializers.save_npz(\"my.state\", optimizer)\n",
    "serializers.load_npz(\"my.state\", optimizer)"
   ]
  },
  {
   "cell_type": "markdown",
   "metadata": {},
   "source": [
    "# Example: Multi-layer Perceptron on MNIST"
   ]
  },
  {
   "cell_type": "code",
   "execution_count": null,
   "metadata": {},
   "outputs": [],
   "source": []
  }
 ],
 "metadata": {
  "kernelspec": {
   "display_name": "chainer",
   "language": "python",
   "name": "chainer"
  },
  "language_info": {
   "codemirror_mode": {
    "name": "ipython",
    "version": 3
   },
   "file_extension": ".py",
   "mimetype": "text/x-python",
   "name": "python",
   "nbconvert_exporter": "python",
   "pygments_lexer": "ipython3",
   "version": "3.6.4"
  },
  "latex_envs": {
   "LaTeX_envs_menu_present": true,
   "autoclose": false,
   "autocomplete": true,
   "bibliofile": "biblio.bib",
   "cite_by": "apalike",
   "current_citInitial": 1,
   "eqLabelWithNumbers": true,
   "eqNumInitial": 1,
   "hotkeys": {
    "equation": "Ctrl-E",
    "itemize": "Ctrl-I"
   },
   "labels_anchors": false,
   "latex_user_defs": false,
   "report_style_numbering": false,
   "user_envs_cfg": false
  },
  "toc": {
   "base_numbering": 1,
   "nav_menu": {},
   "number_sections": true,
   "sideBar": true,
   "skip_h1_title": false,
   "title_cell": "Table of Contents",
   "title_sidebar": "Contents",
   "toc_cell": false,
   "toc_position": {},
   "toc_section_display": true,
   "toc_window_display": false
  }
 },
 "nbformat": 4,
 "nbformat_minor": 2
}
