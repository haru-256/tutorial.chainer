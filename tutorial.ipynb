{
 "cells": [
  {
   "cell_type": "markdown",
   "metadata": {},
   "source": [
    "# Foward/Backward Computation"
   ]
  },
  {
   "cell_type": "code",
   "execution_count": 1,
   "metadata": {},
   "outputs": [],
   "source": [
    "import numpy as np\n",
    "import chainer\n",
    "from chainer import Function, gradient_check, report, training, utils, Variable\n",
    "from chainer import datasets, iterators, optimizers, serializers\n",
    "from chainer import link, Chain, ChainList\n",
    "import chainer.functions as F\n",
    "import chainer.links as L\n",
    "from chainer.training import extensions"
   ]
  },
  {
   "cell_type": "code",
   "execution_count": 2,
   "metadata": {},
   "outputs": [],
   "source": [
    "x_data = np.array([5], dtype=np.float32)\n",
    "x = Variable(x_data)  # trainableな変数となる"
   ]
  },
  {
   "cell_type": "code",
   "execution_count": 3,
   "metadata": {},
   "outputs": [
    {
     "data": {
      "text/plain": [
       "(variable([ 5.]), array([ 5.], dtype=float32))"
      ]
     },
     "execution_count": 3,
     "metadata": {},
     "output_type": "execute_result"
    }
   ],
   "source": [
    "x, x.data  # can get value from data attribute then it's array"
   ]
  },
  {
   "cell_type": "code",
   "execution_count": 4,
   "metadata": {},
   "outputs": [],
   "source": [
    "y = x**2 -2 * x +1"
   ]
  },
  {
   "cell_type": "code",
   "execution_count": 5,
   "metadata": {},
   "outputs": [
    {
     "data": {
      "text/plain": [
       "array([ 16.], dtype=float32)"
      ]
     },
     "execution_count": 5,
     "metadata": {},
     "output_type": "execute_result"
    }
   ],
   "source": [
    "y.data"
   ]
  },
  {
   "cell_type": "code",
   "execution_count": 6,
   "metadata": {},
   "outputs": [
    {
     "data": {
      "text/plain": [
       "array([ 8.], dtype=float32)"
      ]
     },
     "execution_count": 6,
     "metadata": {},
     "output_type": "execute_result"
    }
   ],
   "source": [
    "y.backward()  # backwordを行うと\n",
    "x.grad  # それぞれの変数においての勾配が計算される．"
   ]
  },
  {
   "cell_type": "code",
   "execution_count": 7,
   "metadata": {},
   "outputs": [
    {
     "data": {
      "text/plain": [
       "array([-1.], dtype=float32)"
      ]
     },
     "execution_count": 7,
     "metadata": {},
     "output_type": "execute_result"
    }
   ],
   "source": [
    "z = 2*x\n",
    "y = x**2 - z +1\n",
    "y.backward(retain_grad=True)\n",
    "z.grad  # 中間の変数の勾配はメモリ効率のため，retain_grad=Trueとしないと解放される．"
   ]
  },
  {
   "cell_type": "code",
   "execution_count": 8,
   "metadata": {},
   "outputs": [],
   "source": [
    "y.backward()  # そうしないと勾配を保持しない"
   ]
  },
  {
   "cell_type": "code",
   "execution_count": 9,
   "metadata": {},
   "outputs": [
    {
     "data": {
      "text/plain": [
       "True"
      ]
     },
     "execution_count": 9,
     "metadata": {},
     "output_type": "execute_result"
    }
   ],
   "source": [
    "z.grad is None"
   ]
  },
  {
   "cell_type": "code",
   "execution_count": 10,
   "metadata": {},
   "outputs": [
    {
     "data": {
      "text/plain": [
       "array([ 24.], dtype=float32)"
      ]
     },
     "execution_count": 10,
     "metadata": {},
     "output_type": "execute_result"
    }
   ],
   "source": [
    "x.grad  # 最初の変数は勾配が常にある．"
   ]
  },
  {
   "cell_type": "code",
   "execution_count": 11,
   "metadata": {},
   "outputs": [
    {
     "data": {
      "text/plain": [
       "array([[  0.,   2.,   4.],\n",
       "       [  6.,   8.,  10.]], dtype=float32)"
      ]
     },
     "execution_count": 11,
     "metadata": {},
     "output_type": "execute_result"
    }
   ],
   "source": [
    "x = Variable(np.array([[1, 2 ,3], [4, 5, 6]], dtype=np.float32))\n",
    "y = x**2 -2*x +1\n",
    "# 多次元配列を入力とするときは初期誤差を明示的に書かなければならない\n",
    "y.grad = np.ones((2, 3), dtype=np.float32)\n",
    "y.backward()\n",
    "x.grad"
   ]
  },
  {
   "cell_type": "code",
   "execution_count": 12,
   "metadata": {},
   "outputs": [
    {
     "data": {
      "text/plain": [
       "True"
      ]
     },
     "execution_count": 12,
     "metadata": {},
     "output_type": "execute_result"
    }
   ],
   "source": [
    "x = Variable(np.array([[1, 2 ,3], [4, 5, 6]], dtype=np.float32))\n",
    "y = x**2 -2*x +1\n",
    "# y.grad = np.ones((2, 3), dtype=np.float32)\n",
    "y.backward()\n",
    "x.grad is None"
   ]
  },
  {
   "cell_type": "markdown",
   "metadata": {},
   "source": [
    "# Links"
   ]
  },
  {
   "cell_type": "code",
   "execution_count": 13,
   "metadata": {},
   "outputs": [],
   "source": [
    "# accept input value whose shape is (N, 3) and this functions output shape is (N,2)\n",
    "f = L.Linear(3, 2)"
   ]
  },
  {
   "cell_type": "code",
   "execution_count": 14,
   "metadata": {},
   "outputs": [
    {
     "data": {
      "text/plain": [
       "variable W([[ 1.36686826, -0.64760172, -0.41609076],\n",
       "            [ 0.47256982, -1.13561976,  0.17554796]])"
      ]
     },
     "execution_count": 14,
     "metadata": {},
     "output_type": "execute_result"
    }
   ],
   "source": [
    "f.W  # instance of Variable"
   ]
  },
  {
   "cell_type": "code",
   "execution_count": 15,
   "metadata": {},
   "outputs": [
    {
     "data": {
      "text/plain": [
       "(array([[ 1.36686826, -0.64760172, -0.41609076],\n",
       "        [ 0.47256982, -1.13561976,  0.17554796]], dtype=float32),\n",
       " array([ 0.,  0.], dtype=float32))"
      ]
     },
     "execution_count": 15,
     "metadata": {},
     "output_type": "execute_result"
    }
   ],
   "source": [
    "f.W.data, f.b.data  # W,b はインスタンス化した際に初期化される．よって何度このセルを実行しても値は同じ"
   ]
  },
  {
   "cell_type": "code",
   "execution_count": 16,
   "metadata": {},
   "outputs": [
    {
     "data": {
      "text/plain": [
       "array([[-1.17660749, -1.27202582],\n",
       "       [-0.26708007, -2.73453164]], dtype=float32)"
      ]
     },
     "execution_count": 16,
     "metadata": {},
     "output_type": "execute_result"
    }
   ],
   "source": [
    "x = Variable(np.array([[1, 2, 3], [4, 5, 6]],\n",
    "                      dtype=np.float32))  # input\n",
    "y = f(x)  # fully-connected\n",
    "y.data"
   ]
  },
  {
   "cell_type": "code",
   "execution_count": 17,
   "metadata": {},
   "outputs": [],
   "source": [
    "f = L.Linear(2)"
   ]
  },
  {
   "cell_type": "code",
   "execution_count": 18,
   "metadata": {},
   "outputs": [
    {
     "data": {
      "text/plain": [
       "(variable W(None), variable b([ 0.,  0.]))"
      ]
     },
     "execution_count": 18,
     "metadata": {},
     "output_type": "execute_result"
    }
   ],
   "source": [
    "f.W, f.b  # 入力次元を指定してないので, W はデータが流れるまでは初期化されない"
   ]
  },
  {
   "cell_type": "code",
   "execution_count": 19,
   "metadata": {},
   "outputs": [
    {
     "name": "stdout",
     "output_type": "stream",
     "text": [
      "variable W([[-0.24030645 -0.07181747  0.50280213]\n",
      "            [-0.87310749  0.12547415  0.24238083]]) variable b([ 0.  0.])\n"
     ]
    },
    {
     "data": {
      "text/plain": [
       "array([[ 1.12446499,  0.10498327],\n",
       "       [ 1.69649959, -1.41077423]], dtype=float32)"
      ]
     },
     "execution_count": 19,
     "metadata": {},
     "output_type": "execute_result"
    }
   ],
   "source": [
    "x = Variable(np.array([[1, 2, 3], [4, 5, 6]],\n",
    "                      dtype=np.float32))  # input\n",
    "y = f(x)  # fully-connected\n",
    "print(f.W, f.b)  # 推論したら値が初期化されている．\n",
    "y.data"
   ]
  },
  {
   "cell_type": "code",
   "execution_count": 20,
   "metadata": {},
   "outputs": [],
   "source": [
    "f.cleargrads()"
   ]
  },
  {
   "cell_type": "code",
   "execution_count": 21,
   "metadata": {},
   "outputs": [
    {
     "data": {
      "text/plain": [
       "(array([[ 5.,  7.,  9.],\n",
       "        [ 5.,  7.,  9.]], dtype=float32), array([ 2.,  2.], dtype=float32))"
      ]
     },
     "execution_count": 21,
     "metadata": {},
     "output_type": "execute_result"
    }
   ],
   "source": [
    "y.grad = np.ones((2, 2), dtype=np.float32)\n",
    "y.backward()\n",
    "f.W.grad, f.b.grad"
   ]
  },
  {
   "cell_type": "code",
   "execution_count": 22,
   "metadata": {},
   "outputs": [],
   "source": [
    "y.backward()"
   ]
  },
  {
   "cell_type": "code",
   "execution_count": 23,
   "metadata": {},
   "outputs": [
    {
     "data": {
      "text/plain": [
       "(array([[ 10.,  14.,  18.],\n",
       "        [ 10.,  14.,  18.]], dtype=float32), array([ 4.,  4.], dtype=float32))"
      ]
     },
     "execution_count": 23,
     "metadata": {},
     "output_type": "execute_result"
    }
   ],
   "source": [
    "f.W.grad, f.b.grad  # cleargradsをしないと蓄積される"
   ]
  },
  {
   "cell_type": "code",
   "execution_count": 24,
   "metadata": {},
   "outputs": [
    {
     "data": {
      "text/plain": [
       "(array([[ 5.,  7.,  9.],\n",
       "        [ 5.,  7.,  9.]], dtype=float32), array([ 2.,  2.], dtype=float32))"
      ]
     },
     "execution_count": 24,
     "metadata": {},
     "output_type": "execute_result"
    }
   ],
   "source": [
    "f.cleargrads()\n",
    "y.grad = np.ones((2, 2), dtype=np.float32)\n",
    "y.backward()\n",
    "f.W.grad, f.b.grad"
   ]
  },
  {
   "cell_type": "markdown",
   "metadata": {},
   "source": [
    "# Write a model as a chain"
   ]
  },
  {
   "cell_type": "code",
   "execution_count": 25,
   "metadata": {},
   "outputs": [],
   "source": [
    "l1 = L.Linear(4, 3)\n",
    "l2 = L.Linear(3, 2)\n",
    "def my_forward(x):\n",
    "    h = l1(x)\n",
    "    return l2(h)"
   ]
  },
  {
   "cell_type": "code",
   "execution_count": 26,
   "metadata": {},
   "outputs": [],
   "source": [
    "class MyProc(object):\n",
    "    def __init__(self):\n",
    "        self.l1 = L.Linear(4, 3)\n",
    "        self.l2 = L.Linear(3, 2)\n",
    "        \n",
    "    def forward(self, x):\n",
    "        h = self.l1(x)\n",
    "        return self.l2(h)"
   ]
  },
  {
   "cell_type": "code",
   "execution_count": 27,
   "metadata": {},
   "outputs": [],
   "source": [
    "class MyChain(Chain):\n",
    "    def __init__(self):\n",
    "        # MyChainクラスのスーパークラスの初期化メソッドを呼ぶ．単にsuper().__init__でもOK\n",
    "        super(MyChain, self).__init__()\n",
    "        with self.init_scope():\n",
    "            self.l1 = L.Linear(4, 3)\n",
    "            self.l2 = L.Linear(3, 2)\n",
    "        \n",
    "    def __call__(self, x):\n",
    "        h = self.l1(x)\n",
    "        return self.l2(h)"
   ]
  },
  {
   "cell_type": "code",
   "execution_count": 28,
   "metadata": {},
   "outputs": [],
   "source": [
    "class MyChain2(ChainList):\n",
    "    def __init__(self):\n",
    "        # MyChain2クラスのスーパークラスの初期化メソッドを呼ぶ．単にsuper().__init__でもOK\n",
    "        super(MyChain2, self).__init__(\n",
    "            L.Linear(4, 3),\n",
    "            L.Linear(3, 2),\n",
    "        )\n",
    "\n",
    "        \n",
    "    def __call__(self, x):\n",
    "        h = self[0](x)\n",
    "        return self[1](h)"
   ]
  },
  {
   "cell_type": "markdown",
   "metadata": {},
   "source": [
    "# Optimizer"
   ]
  },
  {
   "cell_type": "code",
   "execution_count": 29,
   "metadata": {},
   "outputs": [],
   "source": [
    "model = MyChain()\n",
    "optimizer = optimizers.SGD(lr=0.01)\n",
    "optimizer.setup(model)"
   ]
  },
  {
   "cell_type": "code",
   "execution_count": 30,
   "metadata": {},
   "outputs": [
    {
     "data": {
      "text/plain": [
       "(<__main__.MyChain at 0x7f7710f1e8d0>,\n",
       " <chainer.optimizers.sgd.SGD at 0x7f7710f1edd8>)"
      ]
     },
     "execution_count": 30,
     "metadata": {},
     "output_type": "execute_result"
    }
   ],
   "source": [
    "model, optimizer"
   ]
  },
  {
   "cell_type": "code",
   "execution_count": 31,
   "metadata": {},
   "outputs": [],
   "source": [
    "# あらかじめadd_hookメソッドを呼ぶことで正則化などができる\n",
    "optimizer.add_hook(chainer.optimizer.WeightDecay(0.0005))"
   ]
  },
  {
   "cell_type": "code",
   "execution_count": 32,
   "metadata": {},
   "outputs": [
    {
     "data": {
      "text/plain": [
       "array([[-0.0366318 , -0.43847084, -0.35300794, -0.40803644],\n",
       "       [-0.91343999, -0.55565655, -0.35723013, -0.72801453]], dtype=float32)"
      ]
     },
     "execution_count": 32,
     "metadata": {},
     "output_type": "execute_result"
    }
   ],
   "source": [
    "x = np.random.uniform(-1, 1, (2, 4)).astype('f')\n",
    "x"
   ]
  },
  {
   "cell_type": "code",
   "execution_count": 33,
   "metadata": {},
   "outputs": [
    {
     "data": {
      "text/plain": [
       "variable([[-0.34955841, -0.09633632],\n",
       "          [-0.70786154, -0.01984116]])"
      ]
     },
     "execution_count": 33,
     "metadata": {},
     "output_type": "execute_result"
    }
   ],
   "source": [
    "model.cleargrads()\n",
    "# chainerを使って定義した機械学習ネットワークにデータを投げる時には型をVariableにしなければいけません。\n",
    "# その時、引数に与えるデータは常にnp.arrayを用いる必要があります。\n",
    "\n",
    "loss = model(chainer.Variable(x))  # define loss function\n",
    "loss"
   ]
  },
  {
   "cell_type": "code",
   "execution_count": 34,
   "metadata": {},
   "outputs": [
    {
     "data": {
      "text/plain": [
       "variable(-1.1735974550247192)"
      ]
     },
     "execution_count": 34,
     "metadata": {},
     "output_type": "execute_result"
    }
   ],
   "source": [
    "loss = F.sum(loss)\n",
    "loss"
   ]
  },
  {
   "cell_type": "code",
   "execution_count": 35,
   "metadata": {},
   "outputs": [],
   "source": [
    "loss.backward()  # compute gradients here\n",
    "optimizer.update()"
   ]
  },
  {
   "cell_type": "code",
   "execution_count": 36,
   "metadata": {},
   "outputs": [
    {
     "data": {
      "text/plain": [
       "array([[-0.26027855, -0.27260467, -0.19440885, -0.31117183],\n",
       "       [ 0.42476881,  0.44423321,  0.31731641,  0.50752056],\n",
       "       [-0.85289735, -0.89215851, -0.63798934, -1.01940405]], dtype=float32)"
      ]
     },
     "execution_count": 36,
     "metadata": {},
     "output_type": "execute_result"
    }
   ],
   "source": [
    "model.l1.W.grad"
   ]
  },
  {
   "cell_type": "code",
   "execution_count": 37,
   "metadata": {},
   "outputs": [
    {
     "name": "stdout",
     "output_type": "stream",
     "text": [
      "[[-0.05605068 -0.57227468  0.28936765  0.04687699]\n",
      " [ 0.484687    0.04224001 -0.08731898 -0.21627571]\n",
      " [ 0.14677453  0.73036766 -0.68068922  1.07621634]]\n"
     ]
    },
    {
     "data": {
      "text/plain": [
       "array([[-0.2529926 , -0.26498091, -0.18896216, -0.30245966],\n",
       "       [ 0.42044103,  0.43970475,  0.31408113,  0.50234562],\n",
       "       [-0.88210183, -0.92271727, -0.65982145, -1.05432534]], dtype=float32)"
      ]
     },
     "execution_count": 37,
     "metadata": {},
     "output_type": "execute_result"
    }
   ],
   "source": [
    "model.cleargrads()  # 勾配消去\n",
    "loss.backward()  # compute gradient\n",
    "optimizer.update()  # 最適化\n",
    "print(model.l1.W.data)  # 勾配を消して,backwordしてupdateすれば，変数が最適化されていく\n",
    "model.l1.W.grad"
   ]
  },
  {
   "cell_type": "code",
   "execution_count": 38,
   "metadata": {},
   "outputs": [],
   "source": [
    "model2 = MyChain()\n",
    "optimizer = optimizers.SGD(lr=0.01)\n",
    "optimizer.setup(model2)"
   ]
  },
  {
   "cell_type": "code",
   "execution_count": 39,
   "metadata": {},
   "outputs": [
    {
     "name": "stdout",
     "output_type": "stream",
     "text": [
      "[[-0.9480201   0.47994247  0.80694389  0.3817637 ]\n",
      " [-0.15900344 -0.57771677  0.54771912  0.95340836]\n",
      " [ 0.46522558 -1.3306762   0.19725969 -0.0401984 ]]\n"
     ]
    },
    {
     "data": {
      "text/plain": [
       "array([[-0.2529926 , -0.26498091, -0.18896216, -0.30245966],\n",
       "       [ 0.42044103,  0.43970475,  0.31408113,  0.50234562],\n",
       "       [-0.88210183, -0.92271727, -0.65982145, -1.05432534]], dtype=float32)"
      ]
     },
     "execution_count": 39,
     "metadata": {},
     "output_type": "execute_result"
    }
   ],
   "source": [
    "np.random.seed(1)\n",
    "def lossfun(arg1, arg2):\n",
    "    # calculate loss\n",
    "    loss = F.sum(model2(arg1 - arg2))\n",
    "    return loss\n",
    "arg1 = np.random.uniform(-1, 1, (100, 4)).astype('f')  # 入力データ1\n",
    "arg2 = np.random.uniform(-1, 1, (100, 4)).astype('f')  # 入力データ2\n",
    "# lossfunc以外の引数はlossfuncの引数である必要がある. この方法での最適化だとcleargradsは必要ない\n",
    "optimizer.update(lossfun, chainer.Variable(arg1), chainer.Variable(arg2)) \n",
    "print(model2.l1.W.data)\n",
    "model.l1.W.grad"
   ]
  },
  {
   "cell_type": "code",
   "execution_count": 40,
   "metadata": {},
   "outputs": [
    {
     "name": "stdout",
     "output_type": "stream",
     "text": [
      "[[-0.91590959  0.44996142  0.85731137  0.30127001]\n",
      " [-0.21076667 -0.52938628  0.46652496  1.08316696]\n",
      " [ 0.5580737  -1.41736698  0.34289834 -0.27294749]]\n",
      "[[ -3.2110486    2.99810553  -5.03674984   8.0493679 ]\n",
      " [  5.17632389  -4.83305168   8.11941719 -12.97586441]\n",
      " [ -9.28481388   8.66908264 -14.56386471  23.27490997]]\n",
      "[[-0.79964656  0.34140849  1.03967798  0.00982505]\n",
      " [-0.36427641 -0.38605666  0.22573443  1.46798086]\n",
      " [ 0.83279109 -1.67386627  0.77381134 -0.96160132]]\n",
      "[[-11.62630558  10.85529327 -18.23665619  29.14449692]\n",
      " [ 15.35097504 -14.33296204  24.07905388 -38.48139191]\n",
      " [-27.47174263  25.64992523 -43.09130478  68.86538696]]\n",
      "[[-0.53176022  0.09128734  1.45987594 -0.66170478]\n",
      " [-0.72829759 -0.04617581 -0.3452577   2.38049889]\n",
      " [ 1.48447061 -2.28232908  1.79601538 -2.59521341]]\n",
      "[[ -26.78863144   25.01211548  -42.01979446   67.15298462]\n",
      " [  36.4021225   -33.9880867    57.09921265  -91.2518158 ]\n",
      " [ -65.16796112   60.84628677 -102.22040558  163.36120605]]\n"
     ]
    }
   ],
   "source": []
  },
  {
   "cell_type": "code",
   "execution_count": 41,
   "metadata": {},
   "outputs": [
    {
     "name": "stdout",
     "output_type": "stream",
     "text": [
      "[[ 0.40302911  0.13216969  0.33647144  0.04901356]\n",
      " [ 0.43127936 -0.81043494 -0.44686693  0.21333061]\n",
      " [-0.01339246 -0.12016282 -0.08008625  0.23532893]]\n",
      "[[  3.98837996  -3.72388697   6.25604582  -9.99795818]\n",
      " [ -5.96011114   5.5648613   -9.34884071  14.94063854]\n",
      " [ -0.61966693   0.57857305  -0.97198975   1.55336356]]\n",
      "[[ 0.37370729  0.159547    0.29047817  0.12251665]\n",
      " [ 0.48439357 -0.86002684 -0.36355367  0.08018543]\n",
      " [-0.01370221 -0.11987362 -0.08057211  0.2361054 ]]\n",
      "[[  2.93218112  -2.73773098   4.59932613  -7.35030842]\n",
      " [ -5.31141949   4.95918941  -8.33132553  13.31451797]\n",
      " [  0.03097464  -0.02892053   0.04858584  -0.07764636]]\n",
      "[[ 0.27114359  0.2553091   0.12959997  0.37962049]\n",
      " [ 0.65625489 -1.020491   -0.09397742 -0.35063177]\n",
      " [-0.00749792 -0.12566645 -0.07084027  0.22055268]]\n",
      "[[ 10.2563715   -9.57621098  16.08782005 -25.71038437]\n",
      " [-17.18613434  16.04641342 -26.95762444  43.08171844]\n",
      " [ -0.62042809   0.57928395  -0.97318405   1.55527186]]\n"
     ]
    }
   ],
   "source": []
  }
 ],
 "metadata": {
  "kernelspec": {
   "display_name": "chainer",
   "language": "python",
   "name": "chainer"
  },
  "language_info": {
   "codemirror_mode": {
    "name": "ipython",
    "version": 3
   },
   "file_extension": ".py",
   "mimetype": "text/x-python",
   "name": "python",
   "nbconvert_exporter": "python",
   "pygments_lexer": "ipython3",
   "version": "3.6.4"
  },
  "latex_envs": {
   "LaTeX_envs_menu_present": true,
   "autoclose": false,
   "autocomplete": true,
   "bibliofile": "biblio.bib",
   "cite_by": "apalike",
   "current_citInitial": 1,
   "eqLabelWithNumbers": true,
   "eqNumInitial": 1,
   "hotkeys": {
    "equation": "Ctrl-E",
    "itemize": "Ctrl-I"
   },
   "labels_anchors": false,
   "latex_user_defs": false,
   "report_style_numbering": false,
   "user_envs_cfg": false
  },
  "toc": {
   "nav_menu": {},
   "number_sections": true,
   "sideBar": true,
   "skip_h1_title": false,
   "title_cell": "Table of Contents",
   "title_sidebar": "Contents",
   "toc_cell": false,
   "toc_position": {},
   "toc_section_display": true,
   "toc_window_display": false
  }
 },
 "nbformat": 4,
 "nbformat_minor": 2
}
